{
 "cells": [
  {
   "cell_type": "code",
   "id": "initial_id",
   "metadata": {
    "collapsed": true,
    "ExecuteTime": {
     "end_time": "2024-12-20T17:02:03.920292Z",
     "start_time": "2024-12-20T17:01:56.907121Z"
    }
   },
   "source": [
    "from multiprocess import Pool\n",
    "import time\n",
    "from utils.city import *\n",
    "pd.options.mode.chained_assignment = None\n",
    "\n",
    "DATE_COLUMN = 'timestamp'\n",
    "DATA_PATH = 'temperature_data.csv'\n",
    "\n",
    "def load_data(data_path):\n",
    "    data = pd.read_csv(data_path)\n",
    "    lowercase = lambda x: str(x).lower()\n",
    "    data.rename(lowercase, axis='columns', inplace=True)\n",
    "    data[DATE_COLUMN] = pd.to_datetime(data[DATE_COLUMN])\n",
    "    data = data.set_index(DATE_COLUMN)\n",
    "    return data\n",
    "\n",
    "data = load_data(DATA_PATH)\n",
    "\n",
    "city_list = data['city'].value_counts().index.tolist()\n",
    "\n",
    "def qualityMAPE(x,y):\n",
    "    qlt = ((x-y).abs()/x.abs()).replace([np.inf, -np.inf], np.nan)\n",
    "    return qlt.mean() , qlt\n",
    "\n",
    "processes = []\n",
    "data_list = []\n",
    "def worker(city):\n",
    "    return city_data_processing(data, city, 30)\n",
    "\n",
    "def main():\n",
    "    #n_worker = 4\n",
    "    data_list_P = []\n",
    "\n",
    "    start = time.time()\n",
    "    with Pool() as pool:\n",
    "        for result in pool.imap(worker, city_list):\n",
    "            data_list_P.append(result[0])\n",
    "            #print(f'{result[2]} long term trend: ', result[1])\n",
    "\n",
    "    end = time.time()\n",
    "    multi_pool = end - start\n",
    "    return multi_pool\n",
    "\n",
    "\n",
    "multi_pool = main()\n",
    "data_list = []\n",
    "start = time.time()\n",
    "for city in city_list:\n",
    "    results = city_data_processing(data, city, window=30)\n",
    "    data_list.append(results[0])\n",
    "    print(f'{results[2]} long term trend: ', results[1])\n",
    "processed_data = pd.concat(data_list)\n",
    "end = time.time()\n",
    "single_proc = end - start\n",
    "print(\"_\"*20)\n",
    "print(f'multiprocessing: {\"%.2f\" %multi_pool}s')\n",
    "print(f'single: {\"%.2f\" %single_proc}s')\n",
    "if single_proc > multi_pool:\n",
    "    print(f'Multi {\"%.1f\" % (single_proc/multi_pool)}x times faster')\n",
    "else:\n",
    "    print(f'Single {\"%.1f\" %(multi_pool/single_proc)}x times faster')"
   ],
   "outputs": [
    {
     "name": "stdout",
     "output_type": "stream",
     "text": [
      "New York long term trend:  Decreasing mean temp\n",
      "London long term trend:  Increasing mean temp\n",
      "Paris long term trend:  Decreasing mean temp\n",
      "Tokyo long term trend:  Decreasing mean temp\n",
      "Moscow long term trend:  Increasing mean temp\n",
      "Sydney long term trend:  Decreasing mean temp\n",
      "Berlin long term trend:  Increasing mean temp\n",
      "Beijing long term trend:  Increasing mean temp\n",
      "Rio de Janeiro long term trend:  Decreasing mean temp\n",
      "Dubai long term trend:  Increasing mean temp\n",
      "Los Angeles long term trend:  Decreasing mean temp\n",
      "Singapore long term trend:  Decreasing mean temp\n",
      "Mumbai long term trend:  Decreasing mean temp\n",
      "Cairo long term trend:  Increasing mean temp\n",
      "Mexico City long term trend:  Decreasing mean temp\n",
      "____________________\n",
      "multiprocessing: 1.18s\n",
      "single: 5.79s\n",
      "Multi 4.9x times faster\n"
     ]
    }
   ],
   "execution_count": 9
  }
 ],
 "metadata": {
  "kernelspec": {
   "display_name": "Python 3",
   "language": "python",
   "name": "python3"
  },
  "language_info": {
   "codemirror_mode": {
    "name": "ipython",
    "version": 2
   },
   "file_extension": ".py",
   "mimetype": "text/x-python",
   "name": "python",
   "nbconvert_exporter": "python",
   "pygments_lexer": "ipython2",
   "version": "2.7.6"
  }
 },
 "nbformat": 4,
 "nbformat_minor": 5
}
